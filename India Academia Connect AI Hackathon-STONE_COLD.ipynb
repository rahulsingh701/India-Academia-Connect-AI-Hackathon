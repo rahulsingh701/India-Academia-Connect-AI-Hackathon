{
 "cells": [
  {
   "cell_type": "markdown",
   "metadata": {
    "colab_type": "text",
    "id": "3DR-eO17geWu"
   },
   "source": [
    "# Convolutional Neural Network"
   ]
  },
  {
   "cell_type": "markdown",
   "metadata": {
    "colab_type": "text",
    "id": "EMefrVPCg-60"
   },
   "source": [
    "### Importing the libraries"
   ]
  },
  {
   "cell_type": "code",
   "execution_count": 1,
   "metadata": {
    "colab": {},
    "colab_type": "code",
    "id": "sCV30xyVhFbE"
   },
   "outputs": [],
   "source": [
    "import tensorflow as tf\n",
    "from tensorflow.keras.preprocessing.image import ImageDataGenerator\n",
    "import random\n",
    "import json"
   ]
  },
  {
   "cell_type": "code",
   "execution_count": 2,
   "metadata": {
    "colab": {},
    "colab_type": "code",
    "id": "FIleuCAjoFD8"
   },
   "outputs": [],
   "source": [
    "tf.__version__\n",
    "import glob\n",
    "import os"
   ]
  },
  {
   "cell_type": "markdown",
   "metadata": {
    "colab_type": "text",
    "id": "oxQxCBWyoGPE"
   },
   "source": [
    "## Part 1 - Data Preprocessing"
   ]
  },
  {
   "cell_type": "markdown",
   "metadata": {
    "colab_type": "text",
    "id": "MvE-heJNo3GG"
   },
   "source": [
    "### Preprocessing the Training set"
   ]
  },
  {
   "cell_type": "code",
   "execution_count": 11,
   "metadata": {
    "colab": {},
    "colab_type": "code",
    "id": "0koUcJMJpEBD"
   },
   "outputs": [
    {
     "name": "stdout",
     "output_type": "stream",
     "text": [
      "Found 5875 images belonging to 2 classes.\n"
     ]
    }
   ],
   "source": [
    "train_datagen = ImageDataGenerator(rescale = 1./255,\n",
    "                                   shear_range = 0.2,\n",
    "                                   zoom_range = 0.2,\n",
    "                                   horizontal_flip = True)\n",
    "training_set = train_datagen.flow_from_directory('training',\n",
    "                                                 target_size = (64, 64),\n",
    "                                                 batch_size = 32,\n",
    "                                                 class_mode = 'binary')"
   ]
  },
  {
   "cell_type": "markdown",
   "metadata": {
    "colab_type": "text",
    "id": "mrCMmGw9pHys"
   },
   "source": [
    "### Preprocessing the Test set"
   ]
  },
  {
   "cell_type": "code",
   "execution_count": 12,
   "metadata": {
    "colab": {},
    "colab_type": "code",
    "id": "SH4WzfOhpKc3"
   },
   "outputs": [
    {
     "name": "stdout",
     "output_type": "stream",
     "text": [
      "Found 97 images belonging to 2 classes.\n"
     ]
    }
   ],
   "source": [
    "test_datagen = ImageDataGenerator(rescale = 1./255)\n",
    "test_set = test_datagen.flow_from_directory('test',\n",
    "                                            target_size = (64, 64),\n",
    "                                            batch_size = 32,\n",
    "                                            class_mode = 'binary')"
   ]
  },
  {
   "cell_type": "markdown",
   "metadata": {
    "colab_type": "text",
    "id": "af8O4l90gk7B"
   },
   "source": [
    "## Part 2 - Building the CNN"
   ]
  },
  {
   "cell_type": "markdown",
   "metadata": {
    "colab_type": "text",
    "id": "ces1gXY2lmoX"
   },
   "source": [
    "### Initialising the CNN"
   ]
  },
  {
   "cell_type": "code",
   "execution_count": 5,
   "metadata": {
    "colab": {},
    "colab_type": "code",
    "id": "SAUt4UMPlhLS"
   },
   "outputs": [],
   "source": [
    "cnn = tf.keras.models.Sequential()"
   ]
  },
  {
   "cell_type": "markdown",
   "metadata": {
    "colab_type": "text",
    "id": "u5YJj_XMl5LF"
   },
   "source": [
    "### Step 1 - Convolution"
   ]
  },
  {
   "cell_type": "code",
   "execution_count": 6,
   "metadata": {
    "colab": {},
    "colab_type": "code",
    "id": "XPzPrMckl-hV"
   },
   "outputs": [],
   "source": [
    "cnn.add(tf.keras.layers.Conv2D(filters=32, kernel_size=3, activation='relu', input_shape=[64, 64, 3]))"
   ]
  },
  {
   "cell_type": "markdown",
   "metadata": {
    "colab_type": "text",
    "id": "tf87FpvxmNOJ"
   },
   "source": [
    "### Step 2 - Pooling"
   ]
  },
  {
   "cell_type": "code",
   "execution_count": 7,
   "metadata": {
    "colab": {},
    "colab_type": "code",
    "id": "ncpqPl69mOac"
   },
   "outputs": [],
   "source": [
    "cnn.add(tf.keras.layers.MaxPool2D(pool_size=2, strides=2))"
   ]
  },
  {
   "cell_type": "markdown",
   "metadata": {
    "colab_type": "text",
    "id": "xaTOgD8rm4mU"
   },
   "source": [
    "### Adding a second convolutional layer"
   ]
  },
  {
   "cell_type": "code",
   "execution_count": 8,
   "metadata": {
    "colab": {},
    "colab_type": "code",
    "id": "i_-FZjn_m8gk"
   },
   "outputs": [],
   "source": [
    "cnn.add(tf.keras.layers.Conv2D(filters=32, kernel_size=3, activation='relu'))\n",
    "cnn.add(tf.keras.layers.MaxPool2D(pool_size=2, strides=2))"
   ]
  },
  {
   "cell_type": "markdown",
   "metadata": {
    "colab_type": "text",
    "id": "tmiEuvTunKfk"
   },
   "source": [
    "### Step 3 - Flattening"
   ]
  },
  {
   "cell_type": "code",
   "execution_count": 9,
   "metadata": {
    "colab": {},
    "colab_type": "code",
    "id": "6AZeOGCvnNZn"
   },
   "outputs": [],
   "source": [
    "cnn.add(tf.keras.layers.Flatten())"
   ]
  },
  {
   "cell_type": "markdown",
   "metadata": {
    "colab_type": "text",
    "id": "dAoSECOm203v"
   },
   "source": [
    "### Step 4 - Full Connection"
   ]
  },
  {
   "cell_type": "code",
   "execution_count": 10,
   "metadata": {
    "colab": {},
    "colab_type": "code",
    "id": "8GtmUlLd26Nq"
   },
   "outputs": [],
   "source": [
    "cnn.add(tf.keras.layers.Dense(units=128, activation='relu'))"
   ]
  },
  {
   "cell_type": "markdown",
   "metadata": {
    "colab_type": "text",
    "id": "yTldFvbX28Na"
   },
   "source": [
    "### Step 5 - Output Layer"
   ]
  },
  {
   "cell_type": "code",
   "execution_count": 11,
   "metadata": {
    "colab": {},
    "colab_type": "code",
    "id": "1p_Zj1Mc3Ko_"
   },
   "outputs": [],
   "source": [
    "cnn.add(tf.keras.layers.Dense(units=1, activation='sigmoid'))"
   ]
  },
  {
   "cell_type": "markdown",
   "metadata": {
    "colab_type": "text",
    "id": "D6XkI90snSDl"
   },
   "source": [
    "## Part 3 - Training the CNN"
   ]
  },
  {
   "cell_type": "markdown",
   "metadata": {
    "colab_type": "text",
    "id": "vfrFQACEnc6i"
   },
   "source": [
    "### Compiling the CNN"
   ]
  },
  {
   "cell_type": "code",
   "execution_count": 12,
   "metadata": {
    "colab": {},
    "colab_type": "code",
    "id": "NALksrNQpUlJ"
   },
   "outputs": [],
   "source": [
    "cnn.compile(optimizer = 'adam', loss = 'binary_crossentropy', metrics = ['accuracy'])"
   ]
  },
  {
   "cell_type": "markdown",
   "metadata": {
    "colab_type": "text",
    "id": "ehS-v3MIpX2h"
   },
   "source": [
    "### Training the CNN on the Training set and evaluating it on the Test set"
   ]
  },
  {
   "cell_type": "code",
   "execution_count": 13,
   "metadata": {
    "colab": {},
    "colab_type": "code",
    "id": "XUj1W4PJptta"
   },
   "outputs": [
    {
     "name": "stdout",
     "output_type": "stream",
     "text": [
      "Epoch 1/25\n",
      "184/184 [==============================] - 11s 39ms/step - loss: 0.3881 - accuracy: 0.8391 - val_loss: 0.3268 - val_accuracy: 0.8454\n",
      "Epoch 2/25\n",
      "184/184 [==============================] - 7s 37ms/step - loss: 0.2434 - accuracy: 0.9094 - val_loss: 0.2420 - val_accuracy: 0.8763\n",
      "Epoch 3/25\n",
      "184/184 [==============================] - 7s 37ms/step - loss: 0.1963 - accuracy: 0.9283 - val_loss: 0.2245 - val_accuracy: 0.8866\n",
      "Epoch 4/25\n",
      "184/184 [==============================] - 7s 37ms/step - loss: 0.1801 - accuracy: 0.9350 - val_loss: 0.2345 - val_accuracy: 0.9175\n",
      "Epoch 5/25\n",
      "184/184 [==============================] - 7s 37ms/step - loss: 0.1544 - accuracy: 0.9476 - val_loss: 0.1521 - val_accuracy: 0.9485\n",
      "Epoch 6/25\n",
      "184/184 [==============================] - 7s 38ms/step - loss: 0.1312 - accuracy: 0.9529 - val_loss: 0.1960 - val_accuracy: 0.9278\n",
      "Epoch 7/25\n",
      "184/184 [==============================] - 7s 37ms/step - loss: 0.1059 - accuracy: 0.9641 - val_loss: 0.1171 - val_accuracy: 0.9588\n",
      "Epoch 8/25\n",
      "184/184 [==============================] - 7s 37ms/step - loss: 0.0926 - accuracy: 0.9673 - val_loss: 0.0714 - val_accuracy: 0.9588\n",
      "Epoch 9/25\n",
      "184/184 [==============================] - 7s 37ms/step - loss: 0.0887 - accuracy: 0.9699 - val_loss: 0.1039 - val_accuracy: 0.9485\n",
      "Epoch 10/25\n",
      "184/184 [==============================] - 7s 37ms/step - loss: 0.0809 - accuracy: 0.9714 - val_loss: 0.1287 - val_accuracy: 0.9485\n",
      "Epoch 11/25\n",
      "184/184 [==============================] - 7s 37ms/step - loss: 0.0710 - accuracy: 0.9760 - val_loss: 0.0902 - val_accuracy: 0.9485\n",
      "Epoch 12/25\n",
      "184/184 [==============================] - 7s 37ms/step - loss: 0.0663 - accuracy: 0.9777 - val_loss: 0.0735 - val_accuracy: 0.9588\n",
      "Epoch 13/25\n",
      "184/184 [==============================] - 7s 39ms/step - loss: 0.0562 - accuracy: 0.9825 - val_loss: 0.0743 - val_accuracy: 0.9691\n",
      "Epoch 14/25\n",
      "184/184 [==============================] - 7s 39ms/step - loss: 0.0419 - accuracy: 0.9850 - val_loss: 0.1310 - val_accuracy: 0.9485\n",
      "Epoch 15/25\n",
      "184/184 [==============================] - 7s 36ms/step - loss: 0.0458 - accuracy: 0.9830 - val_loss: 0.1265 - val_accuracy: 0.9588\n",
      "Epoch 16/25\n",
      "184/184 [==============================] - 6s 31ms/step - loss: 0.0422 - accuracy: 0.9859 - val_loss: 0.1409 - val_accuracy: 0.9588\n",
      "Epoch 17/25\n",
      "184/184 [==============================] - 6s 31ms/step - loss: 0.0331 - accuracy: 0.9903 - val_loss: 0.1315 - val_accuracy: 0.9588s\n",
      "Epoch 18/25\n",
      "184/184 [==============================] - 6s 31ms/step - loss: 0.0379 - accuracy: 0.9874 - val_loss: 0.1067 - val_accuracy: 0.9588\n",
      "Epoch 19/25\n",
      "184/184 [==============================] - 6s 32ms/step - loss: 0.0370 - accuracy: 0.9864 - val_loss: 0.1206 - val_accuracy: 0.9691\n",
      "Epoch 20/25\n",
      "184/184 [==============================] - 6s 31ms/step - loss: 0.0285 - accuracy: 0.9908 - val_loss: 0.1298 - val_accuracy: 0.9381\n",
      "Epoch 21/25\n",
      "184/184 [==============================] - 6s 31ms/step - loss: 0.0309 - accuracy: 0.9894 - val_loss: 0.1381 - val_accuracy: 0.9485\n",
      "Epoch 22/25\n",
      "184/184 [==============================] - 6s 31ms/step - loss: 0.0281 - accuracy: 0.9915 - val_loss: 0.1576 - val_accuracy: 0.9588\n",
      "Epoch 23/25\n",
      "184/184 [==============================] - 6s 31ms/step - loss: 0.0289 - accuracy: 0.9915 - val_loss: 0.1686 - val_accuracy: 0.9691\n",
      "Epoch 24/25\n",
      "184/184 [==============================] - 6s 31ms/step - loss: 0.0294 - accuracy: 0.9908 - val_loss: 0.1905 - val_accuracy: 0.9691\n",
      "Epoch 25/25\n",
      "184/184 [==============================] - 6s 31ms/step - loss: 0.0279 - accuracy: 0.9911 - val_loss: 0.1493 - val_accuracy: 0.9588\n"
     ]
    },
    {
     "data": {
      "text/plain": [
       "<tensorflow.python.keras.callbacks.History at 0x2a29b189348>"
      ]
     },
     "execution_count": 13,
     "metadata": {},
     "output_type": "execute_result"
    }
   ],
   "source": [
    "cnn.fit(x = training_set, validation_data = test_set, epochs = 25)"
   ]
  },
  {
   "cell_type": "markdown",
   "metadata": {
    "colab_type": "text",
    "id": "U3PZasO0006Z"
   },
   "source": [
    "## Part 4 - Making prediction over the dataset"
   ]
  },
  {
   "cell_type": "code",
   "execution_count": 3,
   "metadata": {},
   "outputs": [],
   "source": [
    "from tensorflow.keras.models import load_model\n",
    "import os\n",
    "\n",
    "cnn = load_model('my_h5_model.h5',compile=False)"
   ]
  },
  {
   "cell_type": "code",
   "execution_count": 21,
   "metadata": {
    "scrolled": true
   },
   "outputs": [
    {
     "name": "stdout",
     "output_type": "stream",
     "text": [
      "{'C:\\\\Users\\\\rahul singh\\\\Desktop\\\\comp_data/data/test/1.jpg': 1, 'C:\\\\Users\\\\rahul singh\\\\Desktop\\\\comp_data/data/test/10.jpg': 0, 'C:\\\\Users\\\\rahul singh\\\\Desktop\\\\comp_data/data/test/11.jpg': 0, 'C:\\\\Users\\\\rahul singh\\\\Desktop\\\\comp_data/data/test/12.jpg': 0, 'C:\\\\Users\\\\rahul singh\\\\Desktop\\\\comp_data/data/test/13.jpg': 1, 'C:\\\\Users\\\\rahul singh\\\\Desktop\\\\comp_data/data/test/14.jpg': 0, 'C:\\\\Users\\\\rahul singh\\\\Desktop\\\\comp_data/data/test/15.jpg': 0, 'C:\\\\Users\\\\rahul singh\\\\Desktop\\\\comp_data/data/test/16.jpg': 0, 'C:\\\\Users\\\\rahul singh\\\\Desktop\\\\comp_data/data/test/17.jpg': 0, 'C:\\\\Users\\\\rahul singh\\\\Desktop\\\\comp_data/data/test/18.jpg': 0, 'C:\\\\Users\\\\rahul singh\\\\Desktop\\\\comp_data/data/test/19.jpg': 1, 'C:\\\\Users\\\\rahul singh\\\\Desktop\\\\comp_data/data/test/2.jpg': 0, 'C:\\\\Users\\\\rahul singh\\\\Desktop\\\\comp_data/data/test/20.jpg': 0, 'C:\\\\Users\\\\rahul singh\\\\Desktop\\\\comp_data/data/test/21.jpg': 1, 'C:\\\\Users\\\\rahul singh\\\\Desktop\\\\comp_data/data/test/22.jpg': 0, 'C:\\\\Users\\\\rahul singh\\\\Desktop\\\\comp_data/data/test/23.jpg': 1, 'C:\\\\Users\\\\rahul singh\\\\Desktop\\\\comp_data/data/test/24.jpg': 1, 'C:\\\\Users\\\\rahul singh\\\\Desktop\\\\comp_data/data/test/25.jpg': 1, 'C:\\\\Users\\\\rahul singh\\\\Desktop\\\\comp_data/data/test/26.jpg': 1, 'C:\\\\Users\\\\rahul singh\\\\Desktop\\\\comp_data/data/test/27.jpg': 0, 'C:\\\\Users\\\\rahul singh\\\\Desktop\\\\comp_data/data/test/28.jpg': 1, 'C:\\\\Users\\\\rahul singh\\\\Desktop\\\\comp_data/data/test/29.jpg': 1, 'C:\\\\Users\\\\rahul singh\\\\Desktop\\\\comp_data/data/test/3.jpg': 1, 'C:\\\\Users\\\\rahul singh\\\\Desktop\\\\comp_data/data/test/30.jpg': 1, 'C:\\\\Users\\\\rahul singh\\\\Desktop\\\\comp_data/data/test/31.jpg': 0, 'C:\\\\Users\\\\rahul singh\\\\Desktop\\\\comp_data/data/test/32.jpg': 0, 'C:\\\\Users\\\\rahul singh\\\\Desktop\\\\comp_data/data/test/33.jpg': 0, 'C:\\\\Users\\\\rahul singh\\\\Desktop\\\\comp_data/data/test/34.jpg': 0, 'C:\\\\Users\\\\rahul singh\\\\Desktop\\\\comp_data/data/test/35.jpg': 0, 'C:\\\\Users\\\\rahul singh\\\\Desktop\\\\comp_data/data/test/36.jpg': 0, 'C:\\\\Users\\\\rahul singh\\\\Desktop\\\\comp_data/data/test/37.jpg': 0, 'C:\\\\Users\\\\rahul singh\\\\Desktop\\\\comp_data/data/test/38.jpg': 0, 'C:\\\\Users\\\\rahul singh\\\\Desktop\\\\comp_data/data/test/39.jpg': 0, 'C:\\\\Users\\\\rahul singh\\\\Desktop\\\\comp_data/data/test/4.jpg': 0, 'C:\\\\Users\\\\rahul singh\\\\Desktop\\\\comp_data/data/test/40.jpg': 0, 'C:\\\\Users\\\\rahul singh\\\\Desktop\\\\comp_data/data/test/41.jpg': 0, 'C:\\\\Users\\\\rahul singh\\\\Desktop\\\\comp_data/data/test/42.jpg': 1, 'C:\\\\Users\\\\rahul singh\\\\Desktop\\\\comp_data/data/test/43.jpg': 0, 'C:\\\\Users\\\\rahul singh\\\\Desktop\\\\comp_data/data/test/44.jpg': 0, 'C:\\\\Users\\\\rahul singh\\\\Desktop\\\\comp_data/data/test/45.jpg': 0, 'C:\\\\Users\\\\rahul singh\\\\Desktop\\\\comp_data/data/test/46.jpg': 1, 'C:\\\\Users\\\\rahul singh\\\\Desktop\\\\comp_data/data/test/47.jpg': 0, 'C:\\\\Users\\\\rahul singh\\\\Desktop\\\\comp_data/data/test/48.jpg': 1, 'C:\\\\Users\\\\rahul singh\\\\Desktop\\\\comp_data/data/test/49.jpg': 0, 'C:\\\\Users\\\\rahul singh\\\\Desktop\\\\comp_data/data/test/5.jpg': 1, 'C:\\\\Users\\\\rahul singh\\\\Desktop\\\\comp_data/data/test/50.jpg': 1, 'C:\\\\Users\\\\rahul singh\\\\Desktop\\\\comp_data/data/test/51.jpg': 0, 'C:\\\\Users\\\\rahul singh\\\\Desktop\\\\comp_data/data/test/52.jpg': 1, 'C:\\\\Users\\\\rahul singh\\\\Desktop\\\\comp_data/data/test/53.jpg': 1, 'C:\\\\Users\\\\rahul singh\\\\Desktop\\\\comp_data/data/test/54.jpg': 1, 'C:\\\\Users\\\\rahul singh\\\\Desktop\\\\comp_data/data/test/55.jpg': 0, 'C:\\\\Users\\\\rahul singh\\\\Desktop\\\\comp_data/data/test/56.jpg': 0, 'C:\\\\Users\\\\rahul singh\\\\Desktop\\\\comp_data/data/test/57.jpg': 0, 'C:\\\\Users\\\\rahul singh\\\\Desktop\\\\comp_data/data/test/58.jpg': 0, 'C:\\\\Users\\\\rahul singh\\\\Desktop\\\\comp_data/data/test/59.jpg': 0, 'C:\\\\Users\\\\rahul singh\\\\Desktop\\\\comp_data/data/test/6.jpg': 0, 'C:\\\\Users\\\\rahul singh\\\\Desktop\\\\comp_data/data/test/60.jpg': 0, 'C:\\\\Users\\\\rahul singh\\\\Desktop\\\\comp_data/data/test/61.jpg': 1, 'C:\\\\Users\\\\rahul singh\\\\Desktop\\\\comp_data/data/test/62.jpg': 0, 'C:\\\\Users\\\\rahul singh\\\\Desktop\\\\comp_data/data/test/63.jpg': 1, 'C:\\\\Users\\\\rahul singh\\\\Desktop\\\\comp_data/data/test/64.jpg': 0, 'C:\\\\Users\\\\rahul singh\\\\Desktop\\\\comp_data/data/test/65.jpg': 0, 'C:\\\\Users\\\\rahul singh\\\\Desktop\\\\comp_data/data/test/66.jpg': 0, 'C:\\\\Users\\\\rahul singh\\\\Desktop\\\\comp_data/data/test/67.jpg': 1, 'C:\\\\Users\\\\rahul singh\\\\Desktop\\\\comp_data/data/test/68.jpg': 0, 'C:\\\\Users\\\\rahul singh\\\\Desktop\\\\comp_data/data/test/69.jpg': 1, 'C:\\\\Users\\\\rahul singh\\\\Desktop\\\\comp_data/data/test/7.jpg': 0, 'C:\\\\Users\\\\rahul singh\\\\Desktop\\\\comp_data/data/test/70.jpg': 0, 'C:\\\\Users\\\\rahul singh\\\\Desktop\\\\comp_data/data/test/71.jpg': 0, 'C:\\\\Users\\\\rahul singh\\\\Desktop\\\\comp_data/data/test/72.jpg': 0, 'C:\\\\Users\\\\rahul singh\\\\Desktop\\\\comp_data/data/test/73.jpg': 1, 'C:\\\\Users\\\\rahul singh\\\\Desktop\\\\comp_data/data/test/74.jpg': 0, 'C:\\\\Users\\\\rahul singh\\\\Desktop\\\\comp_data/data/test/75.jpg': 0, 'C:\\\\Users\\\\rahul singh\\\\Desktop\\\\comp_data/data/test/76.jpg': 0, 'C:\\\\Users\\\\rahul singh\\\\Desktop\\\\comp_data/data/test/77.jpg': 0, 'C:\\\\Users\\\\rahul singh\\\\Desktop\\\\comp_data/data/test/78.jpg': 0, 'C:\\\\Users\\\\rahul singh\\\\Desktop\\\\comp_data/data/test/79.jpg': 0, 'C:\\\\Users\\\\rahul singh\\\\Desktop\\\\comp_data/data/test/8.jpg': 0, 'C:\\\\Users\\\\rahul singh\\\\Desktop\\\\comp_data/data/test/80.jpg': 0, 'C:\\\\Users\\\\rahul singh\\\\Desktop\\\\comp_data/data/test/81.jpg': 0, 'C:\\\\Users\\\\rahul singh\\\\Desktop\\\\comp_data/data/test/82.jpg': 1, 'C:\\\\Users\\\\rahul singh\\\\Desktop\\\\comp_data/data/test/83.jpg': 1, 'C:\\\\Users\\\\rahul singh\\\\Desktop\\\\comp_data/data/test/84.jpg': 0, 'C:\\\\Users\\\\rahul singh\\\\Desktop\\\\comp_data/data/test/85.jpg': 0, 'C:\\\\Users\\\\rahul singh\\\\Desktop\\\\comp_data/data/test/86.jpg': 0, 'C:\\\\Users\\\\rahul singh\\\\Desktop\\\\comp_data/data/test/87.jpg': 0, 'C:\\\\Users\\\\rahul singh\\\\Desktop\\\\comp_data/data/test/88.jpg': 0, 'C:\\\\Users\\\\rahul singh\\\\Desktop\\\\comp_data/data/test/89.jpg': 0, 'C:\\\\Users\\\\rahul singh\\\\Desktop\\\\comp_data/data/test/9.jpg': 0, 'C:\\\\Users\\\\rahul singh\\\\Desktop\\\\comp_data/data/test/90.jpg': 1, 'C:\\\\Users\\\\rahul singh\\\\Desktop\\\\comp_data/data/test/91.jpg': 0, 'C:\\\\Users\\\\rahul singh\\\\Desktop\\\\comp_data/data/test/92.jpg': 1, 'C:\\\\Users\\\\rahul singh\\\\Desktop\\\\comp_data/data/test/93.jpg': 0, 'C:\\\\Users\\\\rahul singh\\\\Desktop\\\\comp_data/data/test/94.jpg': 1, 'C:\\\\Users\\\\rahul singh\\\\Desktop\\\\comp_data/data/test/95.jpg': 0, 'C:\\\\Users\\\\rahul singh\\\\Desktop\\\\comp_data/data/test/96.jpg': 0, 'C:\\\\Users\\\\rahul singh\\\\Desktop\\\\comp_data/data/test/97.jpg': 0, 'C:\\\\Users\\\\rahul singh\\\\Desktop\\\\comp_data/data/test/98.jpg': 0}\n"
     ]
    }
   ],
   "source": [
    "import numpy as np\n",
    "from tensorflow.keras.preprocessing import image\n",
    "PATH = os.getcwd()\n",
    "\n",
    "data_path = PATH + '/data/test'\n",
    "data_dir_list = os.listdir(data_path)\n",
    "\n",
    "wr = 0\n",
    "cur = 0\n",
    "lis = []\n",
    "dic = {}\n",
    "count = 1\n",
    "for i, label in enumerate(data_dir_list):\n",
    "    cur_path = data_path + '/' + label\n",
    "    a = sorted(glob.glob(cur_path))\n",
    "    j = 1  # type: int\n",
    "\n",
    "    for image_path in a:\n",
    "        \n",
    "        test_image = image.load_img(image_path, target_size = (64, 64))\n",
    "        test_image = image.img_to_array(test_image)\n",
    "        test_image = np.expand_dims(test_image, axis = 0)\n",
    "        result = cnn.predict(test_image)\n",
    "        result = result.tolist()\n",
    "        dic[image_path] = int(result[0][0])\n",
    "        \n",
    "        \n",
    "     \n",
    "       \n",
    "print(dic)"
   ]
  },
  {
   "cell_type": "code",
   "execution_count": 20,
   "metadata": {},
   "outputs": [
    {
     "name": "stdout",
     "output_type": "stream",
     "text": [
      "{\n",
      "   \"C:\\\\Users\\\\rahul singh\\\\Desktop\\\\comp_data/data/test/1.jpg\": 1,\n",
      "   \"C:\\\\Users\\\\rahul singh\\\\Desktop\\\\comp_data/data/test/10.jpg\": 0,\n",
      "   \"C:\\\\Users\\\\rahul singh\\\\Desktop\\\\comp_data/data/test/11.jpg\": 0,\n",
      "   \"C:\\\\Users\\\\rahul singh\\\\Desktop\\\\comp_data/data/test/12.jpg\": 0,\n",
      "   \"C:\\\\Users\\\\rahul singh\\\\Desktop\\\\comp_data/data/test/13.jpg\": 1,\n",
      "   \"C:\\\\Users\\\\rahul singh\\\\Desktop\\\\comp_data/data/test/14.jpg\": 0,\n",
      "   \"C:\\\\Users\\\\rahul singh\\\\Desktop\\\\comp_data/data/test/15.jpg\": 0,\n",
      "   \"C:\\\\Users\\\\rahul singh\\\\Desktop\\\\comp_data/data/test/16.jpg\": 0,\n",
      "   \"C:\\\\Users\\\\rahul singh\\\\Desktop\\\\comp_data/data/test/17.jpg\": 0,\n",
      "   \"C:\\\\Users\\\\rahul singh\\\\Desktop\\\\comp_data/data/test/18.jpg\": 0,\n",
      "   \"C:\\\\Users\\\\rahul singh\\\\Desktop\\\\comp_data/data/test/19.jpg\": 1,\n",
      "   \"C:\\\\Users\\\\rahul singh\\\\Desktop\\\\comp_data/data/test/2.jpg\": 0,\n",
      "   \"C:\\\\Users\\\\rahul singh\\\\Desktop\\\\comp_data/data/test/20.jpg\": 0,\n",
      "   \"C:\\\\Users\\\\rahul singh\\\\Desktop\\\\comp_data/data/test/21.jpg\": 1,\n",
      "   \"C:\\\\Users\\\\rahul singh\\\\Desktop\\\\comp_data/data/test/22.jpg\": 0,\n",
      "   \"C:\\\\Users\\\\rahul singh\\\\Desktop\\\\comp_data/data/test/23.jpg\": 1,\n",
      "   \"C:\\\\Users\\\\rahul singh\\\\Desktop\\\\comp_data/data/test/24.jpg\": 1,\n",
      "   \"C:\\\\Users\\\\rahul singh\\\\Desktop\\\\comp_data/data/test/25.jpg\": 1,\n",
      "   \"C:\\\\Users\\\\rahul singh\\\\Desktop\\\\comp_data/data/test/26.jpg\": 1,\n",
      "   \"C:\\\\Users\\\\rahul singh\\\\Desktop\\\\comp_data/data/test/27.jpg\": 0,\n",
      "   \"C:\\\\Users\\\\rahul singh\\\\Desktop\\\\comp_data/data/test/28.jpg\": 1,\n",
      "   \"C:\\\\Users\\\\rahul singh\\\\Desktop\\\\comp_data/data/test/29.jpg\": 1,\n",
      "   \"C:\\\\Users\\\\rahul singh\\\\Desktop\\\\comp_data/data/test/3.jpg\": 1,\n",
      "   \"C:\\\\Users\\\\rahul singh\\\\Desktop\\\\comp_data/data/test/30.jpg\": 1,\n",
      "   \"C:\\\\Users\\\\rahul singh\\\\Desktop\\\\comp_data/data/test/31.jpg\": 0,\n",
      "   \"C:\\\\Users\\\\rahul singh\\\\Desktop\\\\comp_data/data/test/32.jpg\": 0,\n",
      "   \"C:\\\\Users\\\\rahul singh\\\\Desktop\\\\comp_data/data/test/33.jpg\": 0,\n",
      "   \"C:\\\\Users\\\\rahul singh\\\\Desktop\\\\comp_data/data/test/34.jpg\": 0,\n",
      "   \"C:\\\\Users\\\\rahul singh\\\\Desktop\\\\comp_data/data/test/35.jpg\": 0,\n",
      "   \"C:\\\\Users\\\\rahul singh\\\\Desktop\\\\comp_data/data/test/36.jpg\": 0,\n",
      "   \"C:\\\\Users\\\\rahul singh\\\\Desktop\\\\comp_data/data/test/37.jpg\": 0,\n",
      "   \"C:\\\\Users\\\\rahul singh\\\\Desktop\\\\comp_data/data/test/38.jpg\": 0,\n",
      "   \"C:\\\\Users\\\\rahul singh\\\\Desktop\\\\comp_data/data/test/39.jpg\": 0,\n",
      "   \"C:\\\\Users\\\\rahul singh\\\\Desktop\\\\comp_data/data/test/4.jpg\": 0,\n",
      "   \"C:\\\\Users\\\\rahul singh\\\\Desktop\\\\comp_data/data/test/40.jpg\": 0,\n",
      "   \"C:\\\\Users\\\\rahul singh\\\\Desktop\\\\comp_data/data/test/41.jpg\": 0,\n",
      "   \"C:\\\\Users\\\\rahul singh\\\\Desktop\\\\comp_data/data/test/42.jpg\": 1,\n",
      "   \"C:\\\\Users\\\\rahul singh\\\\Desktop\\\\comp_data/data/test/43.jpg\": 0,\n",
      "   \"C:\\\\Users\\\\rahul singh\\\\Desktop\\\\comp_data/data/test/44.jpg\": 0,\n",
      "   \"C:\\\\Users\\\\rahul singh\\\\Desktop\\\\comp_data/data/test/45.jpg\": 0,\n",
      "   \"C:\\\\Users\\\\rahul singh\\\\Desktop\\\\comp_data/data/test/46.jpg\": 1,\n",
      "   \"C:\\\\Users\\\\rahul singh\\\\Desktop\\\\comp_data/data/test/47.jpg\": 0,\n",
      "   \"C:\\\\Users\\\\rahul singh\\\\Desktop\\\\comp_data/data/test/48.jpg\": 1,\n",
      "   \"C:\\\\Users\\\\rahul singh\\\\Desktop\\\\comp_data/data/test/49.jpg\": 0,\n",
      "   \"C:\\\\Users\\\\rahul singh\\\\Desktop\\\\comp_data/data/test/5.jpg\": 1,\n",
      "   \"C:\\\\Users\\\\rahul singh\\\\Desktop\\\\comp_data/data/test/50.jpg\": 1,\n",
      "   \"C:\\\\Users\\\\rahul singh\\\\Desktop\\\\comp_data/data/test/51.jpg\": 0,\n",
      "   \"C:\\\\Users\\\\rahul singh\\\\Desktop\\\\comp_data/data/test/52.jpg\": 1,\n",
      "   \"C:\\\\Users\\\\rahul singh\\\\Desktop\\\\comp_data/data/test/53.jpg\": 1,\n",
      "   \"C:\\\\Users\\\\rahul singh\\\\Desktop\\\\comp_data/data/test/54.jpg\": 1,\n",
      "   \"C:\\\\Users\\\\rahul singh\\\\Desktop\\\\comp_data/data/test/55.jpg\": 0,\n",
      "   \"C:\\\\Users\\\\rahul singh\\\\Desktop\\\\comp_data/data/test/56.jpg\": 0,\n",
      "   \"C:\\\\Users\\\\rahul singh\\\\Desktop\\\\comp_data/data/test/57.jpg\": 0,\n",
      "   \"C:\\\\Users\\\\rahul singh\\\\Desktop\\\\comp_data/data/test/58.jpg\": 0,\n",
      "   \"C:\\\\Users\\\\rahul singh\\\\Desktop\\\\comp_data/data/test/59.jpg\": 0,\n",
      "   \"C:\\\\Users\\\\rahul singh\\\\Desktop\\\\comp_data/data/test/6.jpg\": 0,\n",
      "   \"C:\\\\Users\\\\rahul singh\\\\Desktop\\\\comp_data/data/test/60.jpg\": 0,\n",
      "   \"C:\\\\Users\\\\rahul singh\\\\Desktop\\\\comp_data/data/test/61.jpg\": 1,\n",
      "   \"C:\\\\Users\\\\rahul singh\\\\Desktop\\\\comp_data/data/test/62.jpg\": 0,\n",
      "   \"C:\\\\Users\\\\rahul singh\\\\Desktop\\\\comp_data/data/test/63.jpg\": 1,\n",
      "   \"C:\\\\Users\\\\rahul singh\\\\Desktop\\\\comp_data/data/test/64.jpg\": 0,\n",
      "   \"C:\\\\Users\\\\rahul singh\\\\Desktop\\\\comp_data/data/test/65.jpg\": 0,\n",
      "   \"C:\\\\Users\\\\rahul singh\\\\Desktop\\\\comp_data/data/test/66.jpg\": 0,\n",
      "   \"C:\\\\Users\\\\rahul singh\\\\Desktop\\\\comp_data/data/test/67.jpg\": 1,\n",
      "   \"C:\\\\Users\\\\rahul singh\\\\Desktop\\\\comp_data/data/test/68.jpg\": 0,\n",
      "   \"C:\\\\Users\\\\rahul singh\\\\Desktop\\\\comp_data/data/test/69.jpg\": 1,\n",
      "   \"C:\\\\Users\\\\rahul singh\\\\Desktop\\\\comp_data/data/test/7.jpg\": 0,\n",
      "   \"C:\\\\Users\\\\rahul singh\\\\Desktop\\\\comp_data/data/test/70.jpg\": 0,\n",
      "   \"C:\\\\Users\\\\rahul singh\\\\Desktop\\\\comp_data/data/test/71.jpg\": 0,\n",
      "   \"C:\\\\Users\\\\rahul singh\\\\Desktop\\\\comp_data/data/test/72.jpg\": 0,\n",
      "   \"C:\\\\Users\\\\rahul singh\\\\Desktop\\\\comp_data/data/test/73.jpg\": 1,\n",
      "   \"C:\\\\Users\\\\rahul singh\\\\Desktop\\\\comp_data/data/test/74.jpg\": 0,\n",
      "   \"C:\\\\Users\\\\rahul singh\\\\Desktop\\\\comp_data/data/test/75.jpg\": 0,\n",
      "   \"C:\\\\Users\\\\rahul singh\\\\Desktop\\\\comp_data/data/test/76.jpg\": 0,\n",
      "   \"C:\\\\Users\\\\rahul singh\\\\Desktop\\\\comp_data/data/test/77.jpg\": 0,\n",
      "   \"C:\\\\Users\\\\rahul singh\\\\Desktop\\\\comp_data/data/test/78.jpg\": 0,\n",
      "   \"C:\\\\Users\\\\rahul singh\\\\Desktop\\\\comp_data/data/test/79.jpg\": 0,\n",
      "   \"C:\\\\Users\\\\rahul singh\\\\Desktop\\\\comp_data/data/test/8.jpg\": 0,\n",
      "   \"C:\\\\Users\\\\rahul singh\\\\Desktop\\\\comp_data/data/test/80.jpg\": 0,\n",
      "   \"C:\\\\Users\\\\rahul singh\\\\Desktop\\\\comp_data/data/test/81.jpg\": 0,\n",
      "   \"C:\\\\Users\\\\rahul singh\\\\Desktop\\\\comp_data/data/test/82.jpg\": 1,\n",
      "   \"C:\\\\Users\\\\rahul singh\\\\Desktop\\\\comp_data/data/test/83.jpg\": 1,\n",
      "   \"C:\\\\Users\\\\rahul singh\\\\Desktop\\\\comp_data/data/test/84.jpg\": 0,\n",
      "   \"C:\\\\Users\\\\rahul singh\\\\Desktop\\\\comp_data/data/test/85.jpg\": 0,\n",
      "   \"C:\\\\Users\\\\rahul singh\\\\Desktop\\\\comp_data/data/test/86.jpg\": 0,\n",
      "   \"C:\\\\Users\\\\rahul singh\\\\Desktop\\\\comp_data/data/test/87.jpg\": 0,\n",
      "   \"C:\\\\Users\\\\rahul singh\\\\Desktop\\\\comp_data/data/test/88.jpg\": 0,\n",
      "   \"C:\\\\Users\\\\rahul singh\\\\Desktop\\\\comp_data/data/test/89.jpg\": 0,\n",
      "   \"C:\\\\Users\\\\rahul singh\\\\Desktop\\\\comp_data/data/test/9.jpg\": 0,\n",
      "   \"C:\\\\Users\\\\rahul singh\\\\Desktop\\\\comp_data/data/test/90.jpg\": 1,\n",
      "   \"C:\\\\Users\\\\rahul singh\\\\Desktop\\\\comp_data/data/test/91.jpg\": 0,\n",
      "   \"C:\\\\Users\\\\rahul singh\\\\Desktop\\\\comp_data/data/test/92.jpg\": 1,\n",
      "   \"C:\\\\Users\\\\rahul singh\\\\Desktop\\\\comp_data/data/test/93.jpg\": 0,\n",
      "   \"C:\\\\Users\\\\rahul singh\\\\Desktop\\\\comp_data/data/test/94.jpg\": 1,\n",
      "   \"C:\\\\Users\\\\rahul singh\\\\Desktop\\\\comp_data/data/test/95.jpg\": 0,\n",
      "   \"C:\\\\Users\\\\rahul singh\\\\Desktop\\\\comp_data/data/test/96.jpg\": 0,\n",
      "   \"C:\\\\Users\\\\rahul singh\\\\Desktop\\\\comp_data/data/test/97.jpg\": 0,\n",
      "   \"C:\\\\Users\\\\rahul singh\\\\Desktop\\\\comp_data/data/test/98.jpg\": 0\n",
      "}\n"
     ]
    }
   ],
   "source": [
    "nehanshu = json.dumps(dic,indent=3)\n",
    "print(nehanshu)\n",
    "\n",
    "with open(\"output.json\", \"w\") as outfile:\n",
    "    outfile.write(nehanshu)"
   ]
  },
  {
   "cell_type": "code",
   "execution_count": null,
   "metadata": {},
   "outputs": [],
   "source": []
  }
 ],
 "metadata": {
  "colab": {
   "collapsed_sections": [],
   "name": "convolutional_neural_network.ipynb",
   "provenance": [],
   "toc_visible": true
  },
  "kernelspec": {
   "display_name": "Python 3 (ipykernel)",
   "language": "python",
   "name": "python3"
  },
  "language_info": {
   "codemirror_mode": {
    "name": "ipython",
    "version": 3
   },
   "file_extension": ".py",
   "mimetype": "text/x-python",
   "name": "python",
   "nbconvert_exporter": "python",
   "pygments_lexer": "ipython3",
   "version": "3.7.11"
  }
 },
 "nbformat": 4,
 "nbformat_minor": 1
}
